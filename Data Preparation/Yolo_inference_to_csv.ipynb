{
  "nbformat": 4,
  "nbformat_minor": 0,
  "metadata": {
    "colab": {
      "name": "Yolo inference to csv.ipynb",
      "provenance": [],
      "collapsed_sections": []
    },
    "kernelspec": {
      "name": "python3",
      "display_name": "Python 3"
    }
  },
  "cells": [
    {
      "cell_type": "code",
      "metadata": {
        "id": "TgbA2zlvEbnC",
        "colab": {
          "base_uri": "https://localhost:8080/"
        },
        "outputId": "cceae2db-46a1-4dc2-c739-833e3d49adf3"
      },
      "source": [
        "from google.colab import drive\n",
        "drive.mount(\"/content/drive\")"
      ],
      "execution_count": null,
      "outputs": [
        {
          "output_type": "stream",
          "text": [
            "Mounted at /content/drive\n"
          ],
          "name": "stdout"
        }
      ]
    },
    {
      "cell_type": "code",
      "metadata": {
        "id": "GD6E014oL1_5"
      },
      "source": [
        "import sys\n",
        "import os\n",
        "from datetime import datetime\n",
        "import time\n",
        "import random\n",
        "import cv2\n",
        "import pandas as pd\n",
        "import numpy as np\n",
        "\n",
        "import matplotlib.pyplot as plt\n",
        "from sklearn.model_selection import StratifiedKFold\n",
        "from torch.utils.data import Dataset,DataLoader\n",
        "from torch.utils.data.sampler import SequentialSampler, RandomSampler\n",
        "\n",
        "from glob import glob\n",
        "from skimage import io\n",
        "\n",
        "np.random.seed(5)"
      ],
      "execution_count": null,
      "outputs": []
    },
    {
      "cell_type": "code",
      "metadata": {
        "id": "6U5kVzKcJx-9"
      },
      "source": [
        "#collecting image path\n",
        "#/content/drive/MyDrive/yolov5/yolov5/inference\n",
        "output_text_path = '/content/drive/MyDrive/yolov5/runs/detect/exp/labels/*.txt'   \n",
        "output_file = []\n",
        "output_file.extend(sorted(glob(output_text_path)))"
      ],
      "execution_count": null,
      "outputs": []
    },
    {
      "cell_type": "code",
      "metadata": {
        "id": "vsaQq21NK2xQ",
        "colab": {
          "base_uri": "https://localhost:8080/"
        },
        "outputId": "4f4e0be5-8b5e-418a-fa15-cdd664ea2ed7"
      },
      "source": [
        "print(f' output file : {len(output_file)} files')\n",
        "# for file in output_file:\n",
        "#   print(file)"
      ],
      "execution_count": null,
      "outputs": [
        {
          "output_type": "stream",
          "text": [
            " output file : 22 files\n"
          ],
          "name": "stdout"
        }
      ]
    },
    {
      "cell_type": "code",
      "metadata": {
        "id": "Y5y1i7j1MRhc",
        "colab": {
          "base_uri": "https://localhost:8080/"
        },
        "outputId": "73c51489-fbc6-4a37-beb7-8c5ac8daf913"
      },
      "source": [
        "#collecting image id\n",
        "\n",
        "def get_ids(path_list):\n",
        "  id_list = []\n",
        "  for list in path_list:\n",
        "    split_list = list.split('/')[-1].split('.')[0] + '.jpg'\n",
        "    id_list.append(split_list)\n",
        "  return id_list\n",
        "\n",
        "output_id = get_ids(output_file)\n",
        "print(output_id)"
      ],
      "execution_count": null,
      "outputs": [
        {
          "output_type": "stream",
          "text": [
            "['12_C2C12.jpg', '13_Caco-2.jpg', '16_Caki.jpg', '17_Caki.jpg', '24_DLD.jpg', '2_769p.jpg', '37_HEL299.jpg', '39_HELA.jpg', '40_HELA.jpg', '43_hMSC.jpg', '44_HT1080.jpg', '45_HT1080.jpg', '52_MCC.jpg', '72_RAW.jpg', '75_RKO.jpg', '77_SH-SY5Y.jpg', '78_SH-SY5Y.jpg', '83_SW480.jpg', '91_Caki.jpg', '95_HCT116.jpg', '96_HELA.jpg', '98_HT1080.jpg']\n"
          ],
          "name": "stdout"
        }
      ]
    },
    {
      "cell_type": "code",
      "metadata": {
        "id": "a9hhWSe_QfKQ"
      },
      "source": [
        "#read file\n",
        "temp_FileContent = []\n",
        "for file in output_file:\n",
        "  file_name = file\n",
        "  with open(file_name, \"r\") as ofile:\n",
        "    temp_FileContent.append(ofile.read())\n",
        "FileContent = []\n",
        "for filecontent in temp_FileContent:\n",
        "  filecontent = filecontent.rstrip(' \\n')\n",
        "  FileContent.append(filecontent)"
      ],
      "execution_count": null,
      "outputs": []
    },
    {
      "cell_type": "code",
      "metadata": {
        "id": "-jCmKt1xRxyj",
        "colab": {
          "base_uri": "https://localhost:8080/"
        },
        "outputId": "232863ea-a11a-4984-f783-b71ec41a3fa4"
      },
      "source": [
        "#collecting file content \n",
        "content_list = []\n",
        "per_image_line = []\n",
        "for content in FileContent:\n",
        "  split_list = content.split('\\n')\n",
        "  per_image_line.append(len(split_list))\n",
        "  for splitList in split_list:\n",
        "    content_list.append(splitList)\n",
        "# print(content_list)\n",
        "print(len(content_list))\n",
        "print(per_image_line)\n",
        "print(len(per_image_line))"
      ],
      "execution_count": null,
      "outputs": [
        {
          "output_type": "stream",
          "text": [
            "210\n",
            "[11, 18, 13, 7, 40, 5, 6, 9, 6, 1, 1, 9, 15, 7, 5, 15, 6, 1, 13, 4, 4, 14]\n",
            "22\n"
          ],
          "name": "stdout"
        }
      ]
    },
    {
      "cell_type": "code",
      "metadata": {
        "id": "T2p3njdjdG17",
        "colab": {
          "base_uri": "https://localhost:8080/"
        },
        "outputId": "3ae62064-6709-439f-ce02-887751b369ff"
      },
      "source": [
        "#making image id list\n",
        "count = 0\n",
        "image_id = []\n",
        "for i in range(len(per_image_line)):\n",
        "  for j in range(per_image_line[i]):\n",
        "    image_id.append(output_id[i])\n",
        "\n",
        "print(image_id)"
      ],
      "execution_count": null,
      "outputs": [
        {
          "output_type": "stream",
          "text": [
            "['12_C2C12.jpg', '12_C2C12.jpg', '12_C2C12.jpg', '12_C2C12.jpg', '12_C2C12.jpg', '12_C2C12.jpg', '12_C2C12.jpg', '12_C2C12.jpg', '12_C2C12.jpg', '12_C2C12.jpg', '12_C2C12.jpg', '13_Caco-2.jpg', '13_Caco-2.jpg', '13_Caco-2.jpg', '13_Caco-2.jpg', '13_Caco-2.jpg', '13_Caco-2.jpg', '13_Caco-2.jpg', '13_Caco-2.jpg', '13_Caco-2.jpg', '13_Caco-2.jpg', '13_Caco-2.jpg', '13_Caco-2.jpg', '13_Caco-2.jpg', '13_Caco-2.jpg', '13_Caco-2.jpg', '13_Caco-2.jpg', '13_Caco-2.jpg', '13_Caco-2.jpg', '16_Caki.jpg', '16_Caki.jpg', '16_Caki.jpg', '16_Caki.jpg', '16_Caki.jpg', '16_Caki.jpg', '16_Caki.jpg', '16_Caki.jpg', '16_Caki.jpg', '16_Caki.jpg', '16_Caki.jpg', '16_Caki.jpg', '16_Caki.jpg', '17_Caki.jpg', '17_Caki.jpg', '17_Caki.jpg', '17_Caki.jpg', '17_Caki.jpg', '17_Caki.jpg', '17_Caki.jpg', '24_DLD.jpg', '24_DLD.jpg', '24_DLD.jpg', '24_DLD.jpg', '24_DLD.jpg', '24_DLD.jpg', '24_DLD.jpg', '24_DLD.jpg', '24_DLD.jpg', '24_DLD.jpg', '24_DLD.jpg', '24_DLD.jpg', '24_DLD.jpg', '24_DLD.jpg', '24_DLD.jpg', '24_DLD.jpg', '24_DLD.jpg', '24_DLD.jpg', '24_DLD.jpg', '24_DLD.jpg', '24_DLD.jpg', '24_DLD.jpg', '24_DLD.jpg', '24_DLD.jpg', '24_DLD.jpg', '24_DLD.jpg', '24_DLD.jpg', '24_DLD.jpg', '24_DLD.jpg', '24_DLD.jpg', '24_DLD.jpg', '24_DLD.jpg', '24_DLD.jpg', '24_DLD.jpg', '24_DLD.jpg', '24_DLD.jpg', '24_DLD.jpg', '24_DLD.jpg', '24_DLD.jpg', '24_DLD.jpg', '2_769p.jpg', '2_769p.jpg', '2_769p.jpg', '2_769p.jpg', '2_769p.jpg', '37_HEL299.jpg', '37_HEL299.jpg', '37_HEL299.jpg', '37_HEL299.jpg', '37_HEL299.jpg', '37_HEL299.jpg', '39_HELA.jpg', '39_HELA.jpg', '39_HELA.jpg', '39_HELA.jpg', '39_HELA.jpg', '39_HELA.jpg', '39_HELA.jpg', '39_HELA.jpg', '39_HELA.jpg', '40_HELA.jpg', '40_HELA.jpg', '40_HELA.jpg', '40_HELA.jpg', '40_HELA.jpg', '40_HELA.jpg', '43_hMSC.jpg', '44_HT1080.jpg', '45_HT1080.jpg', '45_HT1080.jpg', '45_HT1080.jpg', '45_HT1080.jpg', '45_HT1080.jpg', '45_HT1080.jpg', '45_HT1080.jpg', '45_HT1080.jpg', '45_HT1080.jpg', '52_MCC.jpg', '52_MCC.jpg', '52_MCC.jpg', '52_MCC.jpg', '52_MCC.jpg', '52_MCC.jpg', '52_MCC.jpg', '52_MCC.jpg', '52_MCC.jpg', '52_MCC.jpg', '52_MCC.jpg', '52_MCC.jpg', '52_MCC.jpg', '52_MCC.jpg', '52_MCC.jpg', '72_RAW.jpg', '72_RAW.jpg', '72_RAW.jpg', '72_RAW.jpg', '72_RAW.jpg', '72_RAW.jpg', '72_RAW.jpg', '75_RKO.jpg', '75_RKO.jpg', '75_RKO.jpg', '75_RKO.jpg', '75_RKO.jpg', '77_SH-SY5Y.jpg', '77_SH-SY5Y.jpg', '77_SH-SY5Y.jpg', '77_SH-SY5Y.jpg', '77_SH-SY5Y.jpg', '77_SH-SY5Y.jpg', '77_SH-SY5Y.jpg', '77_SH-SY5Y.jpg', '77_SH-SY5Y.jpg', '77_SH-SY5Y.jpg', '77_SH-SY5Y.jpg', '77_SH-SY5Y.jpg', '77_SH-SY5Y.jpg', '77_SH-SY5Y.jpg', '77_SH-SY5Y.jpg', '78_SH-SY5Y.jpg', '78_SH-SY5Y.jpg', '78_SH-SY5Y.jpg', '78_SH-SY5Y.jpg', '78_SH-SY5Y.jpg', '78_SH-SY5Y.jpg', '83_SW480.jpg', '91_Caki.jpg', '91_Caki.jpg', '91_Caki.jpg', '91_Caki.jpg', '91_Caki.jpg', '91_Caki.jpg', '91_Caki.jpg', '91_Caki.jpg', '91_Caki.jpg', '91_Caki.jpg', '91_Caki.jpg', '91_Caki.jpg', '91_Caki.jpg', '95_HCT116.jpg', '95_HCT116.jpg', '95_HCT116.jpg', '95_HCT116.jpg', '96_HELA.jpg', '96_HELA.jpg', '96_HELA.jpg', '96_HELA.jpg', '98_HT1080.jpg', '98_HT1080.jpg', '98_HT1080.jpg', '98_HT1080.jpg', '98_HT1080.jpg', '98_HT1080.jpg', '98_HT1080.jpg', '98_HT1080.jpg', '98_HT1080.jpg', '98_HT1080.jpg', '98_HT1080.jpg', '98_HT1080.jpg', '98_HT1080.jpg', '98_HT1080.jpg']\n"
          ],
          "name": "stdout"
        }
      ]
    },
    {
      "cell_type": "code",
      "metadata": {
        "id": "9xE7UIcpS1Ho"
      },
      "source": [
        "#making list of columns\n",
        "category_id = []\n",
        "confidence = []\n",
        "x_center_norm = []\n",
        "y_center_norm = []\n",
        "width_norm = []\n",
        "height_norm = []\n",
        "for content in content_list:\n",
        "  split_content = content.split(' ')\n",
        "  # print(split_content)\n",
        "  category_id.append(split_content[0])\n",
        "  confidence.append(float(split_content[1]))\n",
        "  x_center_norm.append(float(split_content[2]))\n",
        "  y_center_norm.append(float(split_content[3]))\n",
        "  width_norm.append(float(split_content[4]))\n",
        "  height_norm.append(float(split_content[5]))\n",
        "# print(len(image_id))\n",
        "# print(len(class_id))\n",
        "# print(len(image_id))\n",
        "# print(len(image_id))\n",
        "# print(len(image_id))"
      ],
      "execution_count": null,
      "outputs": []
    },
    {
      "cell_type": "code",
      "metadata": {
        "id": "0PfBdkN3UDYi",
        "colab": {
          "base_uri": "https://localhost:8080/",
          "height": 415
        },
        "outputId": "2143dba6-4acd-4f1a-81f8-5e987248d4ad"
      },
      "source": [
        "#making dataframe\n",
        "df = {'filename': image_id,\n",
        "      'category_id': category_id,\n",
        "      'score': confidence,\n",
        "      'x_center_norm': x_center_norm,\n",
        "      'y_center_norm': y_center_norm,\n",
        "      'width_norm': width_norm,\n",
        "      'height_norm': height_norm}\n",
        "df = pd.DataFrame(df)\n",
        "df"
      ],
      "execution_count": null,
      "outputs": [
        {
          "output_type": "execute_result",
          "data": {
            "text/html": [
              "<div>\n",
              "<style scoped>\n",
              "    .dataframe tbody tr th:only-of-type {\n",
              "        vertical-align: middle;\n",
              "    }\n",
              "\n",
              "    .dataframe tbody tr th {\n",
              "        vertical-align: top;\n",
              "    }\n",
              "\n",
              "    .dataframe thead th {\n",
              "        text-align: right;\n",
              "    }\n",
              "</style>\n",
              "<table border=\"1\" class=\"dataframe\">\n",
              "  <thead>\n",
              "    <tr style=\"text-align: right;\">\n",
              "      <th></th>\n",
              "      <th>filename</th>\n",
              "      <th>category_id</th>\n",
              "      <th>score</th>\n",
              "      <th>x_center_norm</th>\n",
              "      <th>y_center_norm</th>\n",
              "      <th>width_norm</th>\n",
              "      <th>height_norm</th>\n",
              "    </tr>\n",
              "  </thead>\n",
              "  <tbody>\n",
              "    <tr>\n",
              "      <th>0</th>\n",
              "      <td>12_C2C12.jpg</td>\n",
              "      <td>21</td>\n",
              "      <td>0.035235</td>\n",
              "      <td>0.055272</td>\n",
              "      <td>0.070470</td>\n",
              "      <td>0.066326</td>\n",
              "      <td>0.102356</td>\n",
              "    </tr>\n",
              "    <tr>\n",
              "      <th>1</th>\n",
              "      <td>12_C2C12.jpg</td>\n",
              "      <td>12</td>\n",
              "      <td>0.072987</td>\n",
              "      <td>0.385204</td>\n",
              "      <td>0.095638</td>\n",
              "      <td>0.117347</td>\n",
              "      <td>0.117432</td>\n",
              "    </tr>\n",
              "    <tr>\n",
              "      <th>2</th>\n",
              "      <td>12_C2C12.jpg</td>\n",
              "      <td>35</td>\n",
              "      <td>0.507550</td>\n",
              "      <td>0.710034</td>\n",
              "      <td>0.716443</td>\n",
              "      <td>0.579932</td>\n",
              "      <td>0.138550</td>\n",
              "    </tr>\n",
              "    <tr>\n",
              "      <th>3</th>\n",
              "      <td>12_C2C12.jpg</td>\n",
              "      <td>1</td>\n",
              "      <td>0.072987</td>\n",
              "      <td>0.385204</td>\n",
              "      <td>0.095638</td>\n",
              "      <td>0.117347</td>\n",
              "      <td>0.149048</td>\n",
              "    </tr>\n",
              "    <tr>\n",
              "      <th>4</th>\n",
              "      <td>12_C2C12.jpg</td>\n",
              "      <td>35</td>\n",
              "      <td>0.537752</td>\n",
              "      <td>0.641156</td>\n",
              "      <td>0.300336</td>\n",
              "      <td>0.275510</td>\n",
              "      <td>0.151001</td>\n",
              "    </tr>\n",
              "    <tr>\n",
              "      <th>...</th>\n",
              "      <td>...</td>\n",
              "      <td>...</td>\n",
              "      <td>...</td>\n",
              "      <td>...</td>\n",
              "      <td>...</td>\n",
              "      <td>...</td>\n",
              "      <td>...</td>\n",
              "    </tr>\n",
              "    <tr>\n",
              "      <th>205</th>\n",
              "      <td>98_HT1080.jpg</td>\n",
              "      <td>5</td>\n",
              "      <td>0.321309</td>\n",
              "      <td>0.795337</td>\n",
              "      <td>0.132550</td>\n",
              "      <td>0.094991</td>\n",
              "      <td>0.217651</td>\n",
              "    </tr>\n",
              "    <tr>\n",
              "      <th>206</th>\n",
              "      <td>98_HT1080.jpg</td>\n",
              "      <td>49</td>\n",
              "      <td>0.692114</td>\n",
              "      <td>0.678756</td>\n",
              "      <td>0.615772</td>\n",
              "      <td>0.594128</td>\n",
              "      <td>0.224976</td>\n",
              "    </tr>\n",
              "    <tr>\n",
              "      <th>207</th>\n",
              "      <td>98_HT1080.jpg</td>\n",
              "      <td>1</td>\n",
              "      <td>0.375000</td>\n",
              "      <td>0.207254</td>\n",
              "      <td>0.058725</td>\n",
              "      <td>0.041451</td>\n",
              "      <td>0.233154</td>\n",
              "    </tr>\n",
              "    <tr>\n",
              "      <th>208</th>\n",
              "      <td>98_HT1080.jpg</td>\n",
              "      <td>1</td>\n",
              "      <td>0.071309</td>\n",
              "      <td>0.834197</td>\n",
              "      <td>0.065436</td>\n",
              "      <td>0.065630</td>\n",
              "      <td>0.479492</td>\n",
              "    </tr>\n",
              "    <tr>\n",
              "      <th>209</th>\n",
              "      <td>98_HT1080.jpg</td>\n",
              "      <td>1</td>\n",
              "      <td>0.425336</td>\n",
              "      <td>0.430915</td>\n",
              "      <td>0.065436</td>\n",
              "      <td>0.077720</td>\n",
              "      <td>0.695801</td>\n",
              "    </tr>\n",
              "  </tbody>\n",
              "</table>\n",
              "<p>210 rows × 7 columns</p>\n",
              "</div>"
            ],
            "text/plain": [
              "          filename category_id  ...  width_norm  height_norm\n",
              "0     12_C2C12.jpg          21  ...    0.066326     0.102356\n",
              "1     12_C2C12.jpg          12  ...    0.117347     0.117432\n",
              "2     12_C2C12.jpg          35  ...    0.579932     0.138550\n",
              "3     12_C2C12.jpg           1  ...    0.117347     0.149048\n",
              "4     12_C2C12.jpg          35  ...    0.275510     0.151001\n",
              "..             ...         ...  ...         ...          ...\n",
              "205  98_HT1080.jpg           5  ...    0.094991     0.217651\n",
              "206  98_HT1080.jpg          49  ...    0.594128     0.224976\n",
              "207  98_HT1080.jpg           1  ...    0.041451     0.233154\n",
              "208  98_HT1080.jpg           1  ...    0.065630     0.479492\n",
              "209  98_HT1080.jpg           1  ...    0.077720     0.695801\n",
              "\n",
              "[210 rows x 7 columns]"
            ]
          },
          "metadata": {
            "tags": []
          },
          "execution_count": 45
        }
      ]
    },
    {
      "cell_type": "code",
      "metadata": {
        "id": "ZTk0L_K0H9Ds"
      },
      "source": [
        "category_csv = '/content/drive/MyDrive/category.csv'\n",
        "df_cat = pd.read_csv(category_csv)\n",
        "# df_cat"
      ],
      "execution_count": null,
      "outputs": []
    },
    {
      "cell_type": "code",
      "metadata": {
        "id": "Rx9AqKJh5heY",
        "colab": {
          "base_uri": "https://localhost:8080/",
          "height": 502
        },
        "outputId": "47561636-792f-4835-ca80-3998511f805a"
      },
      "source": [
        "#class id to class name\n",
        "df['category_id'] = df['category_id'].astype(int) + 1\n",
        "df['category_name'] = ''\n",
        "for i in range(df['category_id'].size):\n",
        "  df['category_name'].iloc[i] = df_cat['name'].iloc[df['category_id'].iloc[i]-1]\n",
        "df"
      ],
      "execution_count": null,
      "outputs": [
        {
          "output_type": "stream",
          "text": [
            "/usr/local/lib/python3.6/dist-packages/pandas/core/indexing.py:670: SettingWithCopyWarning: \n",
            "A value is trying to be set on a copy of a slice from a DataFrame\n",
            "\n",
            "See the caveats in the documentation: https://pandas.pydata.org/pandas-docs/stable/user_guide/indexing.html#returning-a-view-versus-a-copy\n",
            "  iloc._setitem_with_indexer(indexer, value)\n"
          ],
          "name": "stderr"
        },
        {
          "output_type": "execute_result",
          "data": {
            "text/html": [
              "<div>\n",
              "<style scoped>\n",
              "    .dataframe tbody tr th:only-of-type {\n",
              "        vertical-align: middle;\n",
              "    }\n",
              "\n",
              "    .dataframe tbody tr th {\n",
              "        vertical-align: top;\n",
              "    }\n",
              "\n",
              "    .dataframe thead th {\n",
              "        text-align: right;\n",
              "    }\n",
              "</style>\n",
              "<table border=\"1\" class=\"dataframe\">\n",
              "  <thead>\n",
              "    <tr style=\"text-align: right;\">\n",
              "      <th></th>\n",
              "      <th>filename</th>\n",
              "      <th>category_id</th>\n",
              "      <th>score</th>\n",
              "      <th>x_center_norm</th>\n",
              "      <th>y_center_norm</th>\n",
              "      <th>width_norm</th>\n",
              "      <th>height_norm</th>\n",
              "      <th>category_name</th>\n",
              "    </tr>\n",
              "  </thead>\n",
              "  <tbody>\n",
              "    <tr>\n",
              "      <th>0</th>\n",
              "      <td>12_C2C12.jpg</td>\n",
              "      <td>22</td>\n",
              "      <td>0.035235</td>\n",
              "      <td>0.055272</td>\n",
              "      <td>0.070470</td>\n",
              "      <td>0.066326</td>\n",
              "      <td>0.102356</td>\n",
              "      <td>hMSC_Nucleus</td>\n",
              "    </tr>\n",
              "    <tr>\n",
              "      <th>1</th>\n",
              "      <td>12_C2C12.jpg</td>\n",
              "      <td>13</td>\n",
              "      <td>0.072987</td>\n",
              "      <td>0.385204</td>\n",
              "      <td>0.095638</td>\n",
              "      <td>0.117347</td>\n",
              "      <td>0.117432</td>\n",
              "      <td>Hel299_Nucleus</td>\n",
              "    </tr>\n",
              "    <tr>\n",
              "      <th>2</th>\n",
              "      <td>12_C2C12.jpg</td>\n",
              "      <td>36</td>\n",
              "      <td>0.507550</td>\n",
              "      <td>0.710034</td>\n",
              "      <td>0.716443</td>\n",
              "      <td>0.579932</td>\n",
              "      <td>0.138550</td>\n",
              "      <td>ACHN</td>\n",
              "    </tr>\n",
              "    <tr>\n",
              "      <th>3</th>\n",
              "      <td>12_C2C12.jpg</td>\n",
              "      <td>2</td>\n",
              "      <td>0.072987</td>\n",
              "      <td>0.385204</td>\n",
              "      <td>0.095638</td>\n",
              "      <td>0.117347</td>\n",
              "      <td>0.149048</td>\n",
              "      <td>CHO_Nucleus</td>\n",
              "    </tr>\n",
              "    <tr>\n",
              "      <th>4</th>\n",
              "      <td>12_C2C12.jpg</td>\n",
              "      <td>36</td>\n",
              "      <td>0.537752</td>\n",
              "      <td>0.641156</td>\n",
              "      <td>0.300336</td>\n",
              "      <td>0.275510</td>\n",
              "      <td>0.151001</td>\n",
              "      <td>ACHN</td>\n",
              "    </tr>\n",
              "    <tr>\n",
              "      <th>...</th>\n",
              "      <td>...</td>\n",
              "      <td>...</td>\n",
              "      <td>...</td>\n",
              "      <td>...</td>\n",
              "      <td>...</td>\n",
              "      <td>...</td>\n",
              "      <td>...</td>\n",
              "      <td>...</td>\n",
              "    </tr>\n",
              "    <tr>\n",
              "      <th>205</th>\n",
              "      <td>98_HT1080.jpg</td>\n",
              "      <td>6</td>\n",
              "      <td>0.321309</td>\n",
              "      <td>0.795337</td>\n",
              "      <td>0.132550</td>\n",
              "      <td>0.094991</td>\n",
              "      <td>0.217651</td>\n",
              "      <td>ACHN_Nucleus</td>\n",
              "    </tr>\n",
              "    <tr>\n",
              "      <th>206</th>\n",
              "      <td>98_HT1080.jpg</td>\n",
              "      <td>50</td>\n",
              "      <td>0.692114</td>\n",
              "      <td>0.678756</td>\n",
              "      <td>0.615772</td>\n",
              "      <td>0.594128</td>\n",
              "      <td>0.224976</td>\n",
              "      <td>MG-63</td>\n",
              "    </tr>\n",
              "    <tr>\n",
              "      <th>207</th>\n",
              "      <td>98_HT1080.jpg</td>\n",
              "      <td>2</td>\n",
              "      <td>0.375000</td>\n",
              "      <td>0.207254</td>\n",
              "      <td>0.058725</td>\n",
              "      <td>0.041451</td>\n",
              "      <td>0.233154</td>\n",
              "      <td>CHO_Nucleus</td>\n",
              "    </tr>\n",
              "    <tr>\n",
              "      <th>208</th>\n",
              "      <td>98_HT1080.jpg</td>\n",
              "      <td>2</td>\n",
              "      <td>0.071309</td>\n",
              "      <td>0.834197</td>\n",
              "      <td>0.065436</td>\n",
              "      <td>0.065630</td>\n",
              "      <td>0.479492</td>\n",
              "      <td>CHO_Nucleus</td>\n",
              "    </tr>\n",
              "    <tr>\n",
              "      <th>209</th>\n",
              "      <td>98_HT1080.jpg</td>\n",
              "      <td>2</td>\n",
              "      <td>0.425336</td>\n",
              "      <td>0.430915</td>\n",
              "      <td>0.065436</td>\n",
              "      <td>0.077720</td>\n",
              "      <td>0.695801</td>\n",
              "      <td>CHO_Nucleus</td>\n",
              "    </tr>\n",
              "  </tbody>\n",
              "</table>\n",
              "<p>210 rows × 8 columns</p>\n",
              "</div>"
            ],
            "text/plain": [
              "          filename  category_id  ...  height_norm   category_name\n",
              "0     12_C2C12.jpg           22  ...     0.102356    hMSC_Nucleus\n",
              "1     12_C2C12.jpg           13  ...     0.117432  Hel299_Nucleus\n",
              "2     12_C2C12.jpg           36  ...     0.138550            ACHN\n",
              "3     12_C2C12.jpg            2  ...     0.149048     CHO_Nucleus\n",
              "4     12_C2C12.jpg           36  ...     0.151001            ACHN\n",
              "..             ...          ...  ...          ...             ...\n",
              "205  98_HT1080.jpg            6  ...     0.217651    ACHN_Nucleus\n",
              "206  98_HT1080.jpg           50  ...     0.224976           MG-63\n",
              "207  98_HT1080.jpg            2  ...     0.233154     CHO_Nucleus\n",
              "208  98_HT1080.jpg            2  ...     0.479492     CHO_Nucleus\n",
              "209  98_HT1080.jpg            2  ...     0.695801     CHO_Nucleus\n",
              "\n",
              "[210 rows x 8 columns]"
            ]
          },
          "metadata": {
            "tags": []
          },
          "execution_count": 47
        }
      ]
    },
    {
      "cell_type": "code",
      "metadata": {
        "id": "0iBmpyP-L1XD"
      },
      "source": [
        "image_df = pd.read_csv('/content/drive/MyDrive/eval_difficult_images.csv')\n",
        "# image_df"
      ],
      "execution_count": null,
      "outputs": []
    },
    {
      "cell_type": "code",
      "metadata": {
        "id": "aK50ECicMVBR"
      },
      "source": [
        "df = pd.merge(df,image_df,on = 'filename', how = 'left')\n",
        "df"
      ],
      "execution_count": null,
      "outputs": []
    },
    {
      "cell_type": "code",
      "metadata": {
        "id": "Pc38k2Rc-7ey",
        "colab": {
          "base_uri": "https://localhost:8080/",
          "height": 502
        },
        "outputId": "a0d98d91-78d7-4a60-8ff0-e63449d54570"
      },
      "source": [
        "df['xmin'] = df['x_center_norm'] * df['width'] - df['width_norm'] * df['width']/2\n",
        "df['ymin'] = df['y_center_norm'] * df['height'] - df['height_norm'] * df['height']/2\n",
        "df['xmax'] = df['x_center_norm'] * df['width'] + df['width_norm'] * df['width']/2\n",
        "df['ymax'] = df['y_center_norm'] * df['height'] + df['height_norm'] * df['height']/2\n",
        "\n",
        "df = df.rename({'width': 'image_width', 'height': 'image_height', 'id': 'image_id'},axis = 1)\n",
        "\n",
        "for i in range(df['xmin'].size):\n",
        "  if df['xmin'].iloc[i] < 0:\n",
        "    df['xmin'].iloc[i] = 0\n",
        "  if df['ymin'].iloc[i] < 0:\n",
        "    df['ymin'].iloc[i] = 0\n",
        "  if df['xmax'].iloc[i] > df['image_width'].iloc[i]:\n",
        "    df['xmax'].iloc[i] = df['image_width'].iloc[i]\n",
        "  if df['ymax'].iloc[i] > df['image_height'].iloc[i]:\n",
        "    df['ymax'].iloc[i] = df['image_height'].iloc[i]\n",
        "  \n",
        "df.drop(['x_center_norm','y_center_norm','width_norm','height_norm','license'],axis = 1,inplace = True)\n",
        "df = df[['image_id','filename','category_id','category_name','score','xmin','ymin','xmax','ymax','image_height','image_width']]\n",
        "df"
      ],
      "execution_count": null,
      "outputs": [
        {
          "output_type": "stream",
          "text": [
            "/usr/local/lib/python3.6/dist-packages/pandas/core/indexing.py:670: SettingWithCopyWarning: \n",
            "A value is trying to be set on a copy of a slice from a DataFrame\n",
            "\n",
            "See the caveats in the documentation: https://pandas.pydata.org/pandas-docs/stable/user_guide/indexing.html#returning-a-view-versus-a-copy\n",
            "  iloc._setitem_with_indexer(indexer, value)\n"
          ],
          "name": "stderr"
        },
        {
          "output_type": "execute_result",
          "data": {
            "text/html": [
              "<div>\n",
              "<style scoped>\n",
              "    .dataframe tbody tr th:only-of-type {\n",
              "        vertical-align: middle;\n",
              "    }\n",
              "\n",
              "    .dataframe tbody tr th {\n",
              "        vertical-align: top;\n",
              "    }\n",
              "\n",
              "    .dataframe thead th {\n",
              "        text-align: right;\n",
              "    }\n",
              "</style>\n",
              "<table border=\"1\" class=\"dataframe\">\n",
              "  <thead>\n",
              "    <tr style=\"text-align: right;\">\n",
              "      <th></th>\n",
              "      <th>image_id</th>\n",
              "      <th>filename</th>\n",
              "      <th>category_id</th>\n",
              "      <th>category_name</th>\n",
              "      <th>score</th>\n",
              "      <th>xmin</th>\n",
              "      <th>ymin</th>\n",
              "      <th>xmax</th>\n",
              "      <th>ymax</th>\n",
              "      <th>image_height</th>\n",
              "      <th>image_width</th>\n",
              "    </tr>\n",
              "  </thead>\n",
              "  <tbody>\n",
              "    <tr>\n",
              "      <th>0</th>\n",
              "      <td>1</td>\n",
              "      <td>12_C2C12.jpg</td>\n",
              "      <td>22</td>\n",
              "      <td>hMSC_Nucleus</td>\n",
              "      <td>0.035235</td>\n",
              "      <td>13.176875</td>\n",
              "      <td>11.343578</td>\n",
              "      <td>52.707469</td>\n",
              "      <td>71.528906</td>\n",
              "      <td>588</td>\n",
              "      <td>596</td>\n",
              "    </tr>\n",
              "    <tr>\n",
              "      <th>1</th>\n",
              "      <td>1</td>\n",
              "      <td>12_C2C12.jpg</td>\n",
              "      <td>13</td>\n",
              "      <td>Hel299_Nucleus</td>\n",
              "      <td>0.072987</td>\n",
              "      <td>194.612178</td>\n",
              "      <td>21.709901</td>\n",
              "      <td>264.550990</td>\n",
              "      <td>90.759917</td>\n",
              "      <td>588</td>\n",
              "      <td>596</td>\n",
              "    </tr>\n",
              "    <tr>\n",
              "      <th>2</th>\n",
              "      <td>1</td>\n",
              "      <td>12_C2C12.jpg</td>\n",
              "      <td>36</td>\n",
              "      <td>ACHN</td>\n",
              "      <td>0.507550</td>\n",
              "      <td>250.360528</td>\n",
              "      <td>380.534784</td>\n",
              "      <td>596.000000</td>\n",
              "      <td>462.002184</td>\n",
              "      <td>588</td>\n",
              "      <td>596</td>\n",
              "    </tr>\n",
              "    <tr>\n",
              "      <th>3</th>\n",
              "      <td>1</td>\n",
              "      <td>12_C2C12.jpg</td>\n",
              "      <td>2</td>\n",
              "      <td>CHO_Nucleus</td>\n",
              "      <td>0.072987</td>\n",
              "      <td>194.612178</td>\n",
              "      <td>12.414797</td>\n",
              "      <td>264.550990</td>\n",
              "      <td>100.055021</td>\n",
              "      <td>588</td>\n",
              "      <td>596</td>\n",
              "    </tr>\n",
              "    <tr>\n",
              "      <th>4</th>\n",
              "      <td>1</td>\n",
              "      <td>12_C2C12.jpg</td>\n",
              "      <td>36</td>\n",
              "      <td>ACHN</td>\n",
              "      <td>0.537752</td>\n",
              "      <td>300.026996</td>\n",
              "      <td>132.203274</td>\n",
              "      <td>464.230956</td>\n",
              "      <td>220.991862</td>\n",
              "      <td>588</td>\n",
              "      <td>596</td>\n",
              "    </tr>\n",
              "    <tr>\n",
              "      <th>...</th>\n",
              "      <td>...</td>\n",
              "      <td>...</td>\n",
              "      <td>...</td>\n",
              "      <td>...</td>\n",
              "      <td>...</td>\n",
              "      <td>...</td>\n",
              "      <td>...</td>\n",
              "      <td>...</td>\n",
              "      <td>...</td>\n",
              "      <td>...</td>\n",
              "      <td>...</td>\n",
              "    </tr>\n",
              "    <tr>\n",
              "      <th>205</th>\n",
              "      <td>31</td>\n",
              "      <td>98_HT1080.jpg</td>\n",
              "      <td>6</td>\n",
              "      <td>ACHN_Nucleus</td>\n",
              "      <td>0.321309</td>\n",
              "      <td>445.713415</td>\n",
              "      <td>13.736485</td>\n",
              "      <td>502.328289</td>\n",
              "      <td>139.756415</td>\n",
              "      <td>579</td>\n",
              "      <td>596</td>\n",
              "    </tr>\n",
              "    <tr>\n",
              "      <th>206</th>\n",
              "      <td>31</td>\n",
              "      <td>98_HT1080.jpg</td>\n",
              "      <td>50</td>\n",
              "      <td>MG-63</td>\n",
              "      <td>0.692114</td>\n",
              "      <td>227.488432</td>\n",
              "      <td>291.401436</td>\n",
              "      <td>581.588720</td>\n",
              "      <td>421.662540</td>\n",
              "      <td>579</td>\n",
              "      <td>596</td>\n",
              "    </tr>\n",
              "    <tr>\n",
              "      <th>207</th>\n",
              "      <td>31</td>\n",
              "      <td>98_HT1080.jpg</td>\n",
              "      <td>2</td>\n",
              "      <td>CHO_Nucleus</td>\n",
              "      <td>0.375000</td>\n",
              "      <td>111.171046</td>\n",
              "      <td>0.000000</td>\n",
              "      <td>135.875722</td>\n",
              "      <td>101.499742</td>\n",
              "      <td>579</td>\n",
              "      <td>596</td>\n",
              "    </tr>\n",
              "    <tr>\n",
              "      <th>208</th>\n",
              "      <td>31</td>\n",
              "      <td>98_HT1080.jpg</td>\n",
              "      <td>2</td>\n",
              "      <td>CHO_Nucleus</td>\n",
              "      <td>0.071309</td>\n",
              "      <td>477.623553</td>\n",
              "      <td>0.000000</td>\n",
              "      <td>516.739271</td>\n",
              "      <td>176.700494</td>\n",
              "      <td>579</td>\n",
              "      <td>596</td>\n",
              "    </tr>\n",
              "    <tr>\n",
              "      <th>209</th>\n",
              "      <td>31</td>\n",
              "      <td>98_HT1080.jpg</td>\n",
              "      <td>2</td>\n",
              "      <td>CHO_Nucleus</td>\n",
              "      <td>0.425336</td>\n",
              "      <td>233.664720</td>\n",
              "      <td>0.000000</td>\n",
              "      <td>279.985960</td>\n",
              "      <td>239.321949</td>\n",
              "      <td>579</td>\n",
              "      <td>596</td>\n",
              "    </tr>\n",
              "  </tbody>\n",
              "</table>\n",
              "<p>210 rows × 11 columns</p>\n",
              "</div>"
            ],
            "text/plain": [
              "     image_id       filename  ...  image_height image_width\n",
              "0           1   12_C2C12.jpg  ...           588         596\n",
              "1           1   12_C2C12.jpg  ...           588         596\n",
              "2           1   12_C2C12.jpg  ...           588         596\n",
              "3           1   12_C2C12.jpg  ...           588         596\n",
              "4           1   12_C2C12.jpg  ...           588         596\n",
              "..        ...            ...  ...           ...         ...\n",
              "205        31  98_HT1080.jpg  ...           579         596\n",
              "206        31  98_HT1080.jpg  ...           579         596\n",
              "207        31  98_HT1080.jpg  ...           579         596\n",
              "208        31  98_HT1080.jpg  ...           579         596\n",
              "209        31  98_HT1080.jpg  ...           579         596\n",
              "\n",
              "[210 rows x 11 columns]"
            ]
          },
          "metadata": {
            "tags": []
          },
          "execution_count": 50
        }
      ]
    },
    {
      "cell_type": "code",
      "metadata": {
        "id": "Mbb8YziOCn5j"
      },
      "source": [
        "df.to_csv('/content/drive/My Drive/predicted.csv',index = False)"
      ],
      "execution_count": null,
      "outputs": []
    }
  ]
}